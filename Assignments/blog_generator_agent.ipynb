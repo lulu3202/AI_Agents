{
 "cells": [
  {
   "cell_type": "code",
   "execution_count": 1,
   "metadata": {},
   "outputs": [],
   "source": [
    "import os\n",
    "from dotenv import load_dotenv\n",
    "load_dotenv()\n",
    "\n",
    "# Load environment variable from .env file\n",
    "os.environ[\"GROQ_API_KEY\"]=os.getenv(\"GROQ_API_KEY\")"
   ]
  },
  {
   "cell_type": "code",
   "execution_count": 3,
   "metadata": {},
   "outputs": [],
   "source": [
    "from langchain_groq import ChatGroq\n",
    "\n",
    "# Initialize the language model (LLM) with a specific model\n",
    "llm=ChatGroq(model=\"qwen-2.5-32b\")\n"
   ]
  },
  {
   "cell_type": "code",
   "execution_count": 4,
   "metadata": {},
   "outputs": [],
   "source": [
    "from langgraph.graph import StateGraph, START, END\n",
    "from typing_extensions import TypedDict\n",
    "from typing import Dict\n",
    "from IPython.display import Image, display"
   ]
  },
  {
   "cell_type": "code",
   "execution_count": 5,
   "metadata": {},
   "outputs": [],
   "source": [
    "# Define the structure of the blog state using TypedDict.\n",
    "# This validates that each entry has 3 components, each of string data type: topic, title, and content.\n",
    "\n",
    "class Blog(TypedDict):\n",
    "    blog_topic: str  # The main topic of the blog\n",
    "    blog_title: str  # The generated title for the blog\n",
    "    blog_content: str  # The generated content for the blog"
   ]
  },
  {
   "cell_type": "code",
   "execution_count": 6,
   "metadata": {},
   "outputs": [],
   "source": [
    "# Function to create a blog title based on the provided user topic\n",
    "\n",
    "#CreateTitle function takes one argument, state, which is expected to be of Blog type (a TypedDict with blog_topic, blog_title, and blog_content).\n",
    "#It returns a dictionary (Dict[str, str]), where the key is \"blog_title\" and the value is a string (generated title).\n",
    "\n",
    "def CreateTitle(state: Blog) -> Dict[str, str]:\n",
    "    \"\"\"Creating an appropriate blog title for the topic given\"\"\"\n",
    "    prompt = f\"Create an interesting blog title for the topic: {state['blog_topic']}\"\n",
    "    result = llm.invoke(prompt)   # Invoke the LLM with the prompt\n",
    "\n",
    "    # Returning the generated blog title as a dictionary\n",
    "    return {\"blog_title\": result.content}"
   ]
  },
  {
   "cell_type": "code",
   "execution_count": 7,
   "metadata": {},
   "outputs": [],
   "source": [
    "# Function to generate blog content based on the title\n",
    "\n",
    "def CreateContent(state: Blog) -> Dict[str, str]:\n",
    "    \"\"\"Creates a blog post for the given title.\"\"\"\n",
    "\n",
    "    # Ensure that the blog title exists before generating content\n",
    "    if 'blog_title' not in state:\n",
    "        raise KeyError(\"Missing 'blog_title' in state.\")\n",
    "    \n",
    "    # Prompt the LLM to generate blog content with an example\n",
    "    prompt = f\"Create a concise blog post of 100 words for the title : {state['blog_title']}\"\n",
    "    result = llm.invoke(prompt)  \n",
    "    return {\"blog_content\": result.content}"
   ]
  },
  {
   "cell_type": "markdown",
   "metadata": {},
   "source": [
    "# LangGraph"
   ]
  },
  {
   "cell_type": "code",
   "execution_count": 8,
   "metadata": {},
   "outputs": [
    {
     "data": {
      "image/png": "[encoded data removed]",
      "text/plain": [
       "<IPython.core.display.Image object>"
      ]
     },
     "metadata": {},
     "output_type": "display_data"
    }
   ],
   "source": [
    "# Initialize the state graph with the Blog structure\n",
    "builder = StateGraph(Blog)\n",
    "\n",
    "# Add nodes representing the functions in the workflow\n",
    "builder.add_node(\"CreateTitle\",CreateTitle)\n",
    "builder.add_node(\"CreateContent\",CreateContent)\n",
    "\n",
    "# Define the sequence of execution (edges)\n",
    "builder.add_edge(START,\"CreateTitle\")\n",
    "builder.add_edge(\"CreateTitle\",\"CreateContent\")\n",
    "builder.add_edge(\"CreateContent\",END)\n",
    "\n",
    "# Compile the graph and displaying the graph structure as an image\n",
    "graph = builder.compile()\n",
    "display(Image(graph.get_graph().draw_mermaid_png()))"
   ]
  },
  {
   "cell_type": "code",
   "execution_count": null,
   "metadata": {},
   "outputs": [
    {
     "name": "stdout",
     "output_type": "stream",
     "text": [
      "\n",
      "Sanskrit, one of the world's oldest languages, dates back over 3,500 years and is considered the mother of many modern languages. Originally used by ancient Indian scholars for sacred texts, this language is known for its complex grammar and phonetic precision. Interestingly, Sanskrit's structured syntax influenced the development of computer programming languages. Its rich literature spans poetry, drama, and scientific treatises, making it a treasure trove for linguists and historians. The language's revival in modern times underlines its enduring relevance and profound impact on global culture.\n",
      "\n"
     ]
    }
   ],
   "source": [
    "# Invoke the graph with an initial topic to generate a blog post\n",
    "state = graph.invoke({\"blog_topic\": \"Sanskrit language origin and interesting facts\"})\n",
    "\n",
    "# Print the generated blog content\n",
    "print(state[\"blog_content\"])"
   ]
  }
 ],
 "metadata": {
  "kernelspec": {
   "display_name": "Python 3",
   "language": "python",
   "name": "python3"
  },
  "language_info": {
   "codemirror_mode": {
    "name": "ipython",
    "version": 3
   },
   "file_extension": ".py",
   "mimetype": "text/x-python",
   "name": "python",
   "nbconvert_exporter": "python",
   "pygments_lexer": "ipython3",
   "version": "3.12.0"
  }
 },
 "nbformat": 4,
 "nbformat_minor": 2
}

{
 "cells": [
  {
   "cell_type": "code",
   "execution_count": 1,
   "metadata": {},
   "outputs": [],
   "source": [
    "import os\n",
    "from dotenv import load_dotenv\n",
    "from typing import Literal, List, Dict, TypedDict\n",
    "from langchain_groq import ChatGroq\n",
    "from pydantic import BaseModel, Field\n",
    "from langsmith import traceable\n",
    "from langgraph.graph import StateGraph, START, END\n",
    "from IPython.display import Image, display\n"
   ]
  },
  {
   "cell_type": "code",
   "execution_count": 2,
   "metadata": {},
   "outputs": [],
   "source": [
    "load_dotenv()\n",
    "\n",
    "os.environ[\"GROQ_API_KEY\"] = os.getenv(\"GROQ_API_KEY\")\n",
    "os.environ[\"LANGCHAIN_TRACING_V2\"] = \"true\"\n",
    "os.environ[\"LANGCHAIN_API_KEY\"] = os.getenv(\"LANGCHAIN_API_KEY\")\n",
    "\n",
    "llm = ChatGroq(model=\"qwen-2.5-32b\")"
   ]
  },
  {
   "cell_type": "code",
   "execution_count": 3,
   "metadata": {},
   "outputs": [],
   "source": [
    "# Graph state\n",
    "class State(TypedDict):\n",
    "    blog: str\n",
    "    topic: str\n",
    "    feedback: str\n",
    "    good_or_revise: str\n",
    "\n",
    "\n",
    "class Feedback(BaseModel):\n",
    "    grade: Literal[\"good\", \"needs revision\"] = Field(\n",
    "        description=\"Decide if the blog is entertaining, concise with maxiumum of 400 characters, with subtitles and a conclusion or needs revision.\",\n",
    "    )\n",
    "    feedback: str = Field(\n",
    "        description=\"If the blog is not good, provide feedback on how to improve it.\",\n",
    "    )\n",
    "\n",
    "\n",
    "evaluator = llm.with_structured_output(Feedback)"
   ]
  },
  {
   "cell_type": "code",
   "execution_count": 4,
   "metadata": {},
   "outputs": [],
   "source": [
    "# Nodes\n",
    "@traceable\n",
    "def llm_call_generator(state: State):\n",
    "    \"\"\"LLM generates a blog\"\"\"\n",
    "    if state.get(\"feedback\"):\n",
    "        msg = llm.invoke(\n",
    "            f\"Write a blog about {state['topic']} but take into account the feedback: {state['feedback']}\"\n",
    "        )\n",
    "    else:\n",
    "        msg = llm.invoke(f\"Write a blog about {state['topic']}\")\n",
    "    \n",
    "    # Debugging print statement\n",
    "    print(\"Generated blog content:\", msg.content)  \n",
    "    \n",
    "    return {\"blog\": msg.content}  # Ensure this key is returned!\n",
    "\n",
    "\n",
    "@traceable\n",
    "def llm_call_evaluator(state: State):\n",
    "    \"\"\"LLM evaluates the blog\"\"\"\n",
    "    grade = evaluator.invoke(f\"Grade the blog {state['blog']}\")\n",
    "    return {\"good_or_revise\": grade.grade, \"feedback\": grade.feedback}\n",
    "\n",
    "\n",
    "@traceable\n",
    "def route_blog(state: State):\n",
    "    \"\"\"Route back to blog generator or end based upon feedback from evaluator\"\"\"\n",
    "    if state[\"good_or_revise\"] == \"good\":\n",
    "        return \"Accepted\"\n",
    "    elif state[\"good_or_revise\"] == \"needs revision\":\n",
    "        return \"llm_call_generator\"\n"
   ]
  },
  {
   "cell_type": "code",
   "execution_count": 5,
   "metadata": {},
   "outputs": [
    {
     "data": {
      "image/png": "[encoded data removed]",
      "text/plain": [
       "<IPython.core.display.Image object>"
      ]
     },
     "metadata": {},
     "output_type": "display_data"
    }
   ],
   "source": [
    "# Build workflow\n",
    "optimizer_builder = StateGraph(State)\n",
    "\n",
    "# Add the nodes\n",
    "optimizer_builder.add_node(\"llm_call_generator\", llm_call_generator)\n",
    "optimizer_builder.add_node(\"llm_call_evaluator\", llm_call_evaluator)\n",
    "\n",
    "# Add edges to connect nodes\n",
    "optimizer_builder.add_edge(START, \"llm_call_generator\")\n",
    "optimizer_builder.add_edge(\"llm_call_generator\", \"llm_call_evaluator\")\n",
    "optimizer_builder.add_conditional_edges(\n",
    "    \"llm_call_evaluator\",\n",
    "    route_blog,\n",
    "    {\n",
    "        \"Accepted\": END,\n",
    "        \"llm_call_generator\": \"llm_call_generator\",\n",
    "    },\n",
    ")\n",
    "\n",
    "# Compile the workflow\n",
    "optimizer_workflow = optimizer_builder.compile()\n",
    "\n",
    "# Show the workflow\n",
    "display(Image(optimizer_workflow.get_graph().draw_mermaid_png()))"
   ]
  },
  {
   "cell_type": "code",
   "execution_count": 6,
   "metadata": {},
   "outputs": [
    {
     "name": "stdout",
     "output_type": "stream",
     "text": [
      "Generated blog content: ### Exploring MCP: Anthropic's Ambitious Step in AI Safety and Alignment\n",
      "\n",
      "In the ever-evolving landscape of artificial intelligence (AI), the quest for safer, more aligned AI systems continues to drive innovation. One of the recent advancements in this field comes from Anthropic, a research organization working on creating AI that works as intended. Among their notable projects is Model Constituents Playground (MCP), a tool that aims to improve our understanding of AI models and how they operate.\n",
      "\n",
      "#### What is MCP?\n",
      "\n",
      "MCP is a web-based interface developed by Anthropic to dissect and analyze the inner workings of large language models (LLMs). It functions as a kind of playground for researchers, developers, and enthusiasts to explore the components that make up these complex systems, aiming to provide insights into why models produce certain outputs and how they can be improved.\n",
      "\n",
      "#### The Importance of Understanding AI Models\n",
      "\n",
      "The field of AI has seen rapid advancements, but with these strides come challenges. One of the most significant is the ability to understand and predict how AI systems will behave in various scenarios. This is crucial not only for improving the functionality and efficiency of these systems but also for ensuring they operate ethically and safely.\n",
      "\n",
      "MCP addresses these challenges by allowing users to interact with and analyze the constituent parts of AI models. This can include everything from specific training examples that influence model behavior to the underlying architecture and decision-making processes.\n",
      "\n",
      "#### How MCP Works\n",
      "\n",
      "MCP provides a user-friendly interface for interacting with an AI model. Users can input text, specify parameters, and receive outputs. More importantly, the tool allows users to dive into the model's reasoning process, breaking down how it arrived at a specific output. This transparency is key to understanding the model's decision-making process, which is often opaque in complex AI systems.\n",
      "\n",
      "#### Applications and Implications\n",
      "\n",
      "1. **Enhanced Model Understanding:** By providing insights into how models work, MCP can help researchers identify and correct biases or errors within AI systems. This understanding is crucial for refining and improving model performance.\n",
      "\n",
      "2. **Education and Training:** MCP also serves as an educational tool, making the intricacies of large language models accessible to a broader audience. This can help in training the next generation of AI professionals, ensuring they have a deep understanding of the systems they will work with.\n",
      "\n",
      "3. **Research Opportunities:** With access to detailed insights, researchers can conduct more nuanced studies on AI behavior, ethics, and alignment. It opens up new avenues for research into making AI systems more transparent and accountable.\n",
      "\n",
      "#### Future Directions\n",
      "\n",
      "While MCP is a significant step forward, it represents an ongoing effort in AI research and development. Continuous improvements and expansions to the tool are expected, alongside the development of similar tools from other organizations. The ultimate goal is to build a community of practice around AI safety and alignment, fostering collaboration and knowledge sharing across the field.\n",
      "\n",
      "#### Conclusion\n",
      "\n",
      "MCP from Anthropic is a pioneering step towards making AI systems more understandable and controllable. By providing a transparent view into the inner workings of AI models, it not only aids in improving AI technology but also enhances public trust. As we continue to integrate AI into our daily lives, tools like MCP are critical in ensuring these systems are not only powerful but also safe and aligned with human values and intentions.\n",
      "\n",
      "As AI technology advances, the need for tools like MCP will only grow, helping us navigate the complex landscape of AI safety and alignment more effectively.\n",
      "### Exploring MCP: Anthropic's Ambitious Step in AI Safety and Alignment\n",
      "\n",
      "In the ever-evolving landscape of artificial intelligence (AI), the quest for safer, more aligned AI systems continues to drive innovation. One of the recent advancements in this field comes from Anthropic, a research organization working on creating AI that works as intended. Among their notable projects is Model Constituents Playground (MCP), a tool that aims to improve our understanding of AI models and how they operate.\n",
      "\n",
      "#### What is MCP?\n",
      "\n",
      "MCP is a web-based interface developed by Anthropic to dissect and analyze the inner workings of large language models (LLMs). It functions as a kind of playground for researchers, developers, and enthusiasts to explore the components that make up these complex systems, aiming to provide insights into why models produce certain outputs and how they can be improved.\n",
      "\n",
      "#### The Importance of Understanding AI Models\n",
      "\n",
      "The field of AI has seen rapid advancements, but with these strides come challenges. One of the most significant is the ability to understand and predict how AI systems will behave in various scenarios. This is crucial not only for improving the functionality and efficiency of these systems but also for ensuring they operate ethically and safely.\n",
      "\n",
      "MCP addresses these challenges by allowing users to interact with and analyze the constituent parts of AI models. This can include everything from specific training examples that influence model behavior to the underlying architecture and decision-making processes.\n",
      "\n",
      "#### How MCP Works\n",
      "\n",
      "MCP provides a user-friendly interface for interacting with an AI model. Users can input text, specify parameters, and receive outputs. More importantly, the tool allows users to dive into the model's reasoning process, breaking down how it arrived at a specific output. This transparency is key to understanding the model's decision-making process, which is often opaque in complex AI systems.\n",
      "\n",
      "#### Applications and Implications\n",
      "\n",
      "1. **Enhanced Model Understanding:** By providing insights into how models work, MCP can help researchers identify and correct biases or errors within AI systems. This understanding is crucial for refining and improving model performance.\n",
      "\n",
      "2. **Education and Training:** MCP also serves as an educational tool, making the intricacies of large language models accessible to a broader audience. This can help in training the next generation of AI professionals, ensuring they have a deep understanding of the systems they will work with.\n",
      "\n",
      "3. **Research Opportunities:** With access to detailed insights, researchers can conduct more nuanced studies on AI behavior, ethics, and alignment. It opens up new avenues for research into making AI systems more transparent and accountable.\n",
      "\n",
      "#### Future Directions\n",
      "\n",
      "While MCP is a significant step forward, it represents an ongoing effort in AI research and development. Continuous improvements and expansions to the tool are expected, alongside the development of similar tools from other organizations. The ultimate goal is to build a community of practice around AI safety and alignment, fostering collaboration and knowledge sharing across the field.\n",
      "\n",
      "#### Conclusion\n",
      "\n",
      "MCP from Anthropic is a pioneering step towards making AI systems more understandable and controllable. By providing a transparent view into the inner workings of AI models, it not only aids in improving AI technology but also enhances public trust. As we continue to integrate AI into our daily lives, tools like MCP are critical in ensuring these systems are not only powerful but also safe and aligned with human values and intentions.\n",
      "\n",
      "As AI technology advances, the need for tools like MCP will only grow, helping us navigate the complex landscape of AI safety and alignment more effectively.\n"
     ]
    }
   ],
   "source": [
    "# Invoke\n",
    "state = optimizer_workflow.invoke({\"topic\": \"MCP from Anthropic\"})\n",
    "print(state[\"blog\"])"
   ]
  }
 ],
 "metadata": {
  "kernelspec": {
   "display_name": "Python 3",
   "language": "python",
   "name": "python3"
  },
  "language_info": {
   "codemirror_mode": {
    "name": "ipython",
    "version": 3
   },
   "file_extension": ".py",
   "mimetype": "text/x-python",
   "name": "python",
   "nbconvert_exporter": "python",
   "pygments_lexer": "ipython3",
   "version": "3.12.9"
  }
 },
 "nbformat": 4,
 "nbformat_minor": 2
}
